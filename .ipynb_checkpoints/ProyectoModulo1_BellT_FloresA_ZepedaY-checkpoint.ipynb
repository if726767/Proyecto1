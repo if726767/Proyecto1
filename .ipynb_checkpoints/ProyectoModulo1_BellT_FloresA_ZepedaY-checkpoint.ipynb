{
 "cells": [
  {
   "cell_type": "markdown",
   "metadata": {},
   "source": [
    "# Proyecto 1"
   ]
  },
  {
   "cell_type": "markdown",
   "metadata": {},
   "source": [
    "## Simulación de Optimización de Nanomateriales"
   ]
  },
  {
   "cell_type": "markdown",
   "metadata": {},
   "source": [
    "#### Yara Zepeda, Andrea Flores, Tania Bell"
   ]
  },
  {
   "cell_type": "markdown",
   "metadata": {},
   "source": [
    "#### Objetivos"
   ]
  },
  {
   "cell_type": "markdown",
   "metadata": {},
   "source": [
    "Generales:\n",
    "\n",
    "Aplicar los conocimientos y aprendizajes de optimización de la clase Simulación Matemática.\n",
    "\n",
    "Específicos:\n",
    "\n",
    "Aprovechar las propiedades generadas por los nanomateriales como químicas, mecánicas, eléctricas, térmicas entre otras. \n",
    "Se busca desarrollar e implementar soluciones con Nanotecnología de alta calidad y consistencia a un menor costo para la industria, superando siempre  las expectativas de los  clientes con conocimiento, servicio y calidad,  buscando así un valor agregado.\n",
    "\n"
   ]
  },
  {
   "cell_type": "markdown",
   "metadata": {},
   "source": [
    "#### Problema"
   ]
  },
  {
   "cell_type": "markdown",
   "metadata": {},
   "source": [
    "> La empresa de nanomateriales  Xignux  está interesada en desarrollar un NanoNAP (semiconductor) que contenga como mínimo 100 unidades de plata(Ag), 25 de oxido de titanio (TiO2) y 10 de Carbonato de magnesio (MgCO3), para ello se dispone de los productos NanoNap01 y NanoNap02 cuyo coste en el mercado asciende a 10 y 15 euros por gramos. El contenido de Plata, Oxido de titanio y Carbono de magnesio de un gramo de producto se muestra en la tabla siguiente:\n",
    "Datos:\n",
    "NanoNAP es la combinación de un material semiconductor (TiO2) y un metal (plata) en forma nanométrica, fabricados por medio de la síntesis de “bottom-up”. Su presentación es una suspensión acuosa coloidal altamente dispersa, lo que permite su fácil incorporación en la formulación de diferentes productos."
   ]
  },
  {
   "cell_type": "markdown",
   "metadata": {},
   "source": [
    "Con las restricciones delimitadas en el problema, generamos la siguiente tabla:"
   ]
  },
  {
   "cell_type": "markdown",
   "metadata": {},
   "source": [
    "Producto|$Ag$|$TiO_2$ (g/L)|$MgCO_3$|Costo (euros)\n",
    ":----|----|----|----|----\n",
    "NanoNaP01|  2.0|0.3|0.2|10\n",
    "NanoNaP02|  1.0|0.6|0.2|15\n",
    "Unidades|100|25|10"
   ]
  },
  {
   "cell_type": "markdown",
   "metadata": {},
   "source": [
    "#### Restricciones:"
   ]
  },
  {
   "cell_type": "markdown",
   "metadata": {},
   "source": [
    "$2X_A+X_B≥100$\n",
    "\n",
    "$0.3X_A+0.6X_B≥25$\n",
    "\n",
    "$0.2X_A+0.2X_B≥10$"
   ]
  },
  {
   "cell_type": "markdown",
   "metadata": {},
   "source": [
    "#### Ecuación a Optimizar:"
   ]
  },
  {
   "cell_type": "markdown",
   "metadata": {},
   "source": [
    "Min: $10X_A+15X_B$"
   ]
  },
  {
   "cell_type": "markdown",
   "metadata": {},
   "source": [
    "#### Formato Matriz:"
   ]
  },
  {
   "cell_type": "markdown",
   "metadata": {},
   "source": [
    "- $\\boldsymbol{c}=\\left[10 \\quad 15\\right]^\\top$\n",
    "- $\\boldsymbol{A}=\\left[\\begin{array}{cc}-2 & -1 \\\\ -.3 & -.6\\\\ -0.2 & -0.2\\end{array}\\right]$\n",
    "- $\\boldsymbol{b}=\\left[-100 \\quad -25\\quad -10\\right]^\\top$"
   ]
  },
  {
   "cell_type": "markdown",
   "metadata": {},
   "source": [
    "#### Solución:"
   ]
  },
  {
   "cell_type": "code",
   "execution_count": 8,
   "metadata": {},
   "outputs": [],
   "source": [
    "import scipy.optimize as opt \n",
    "import numpy as np\n",
    "import matplotlib.pyplot as plt\n",
    "\n",
    "%matplotlib inline "
   ]
  },
  {
   "cell_type": "code",
   "execution_count": 9,
   "metadata": {},
   "outputs": [
    {
     "data": {
      "text/plain": [
       "array([38.88888883, 22.22222218])"
      ]
     },
     "execution_count": 9,
     "metadata": {},
     "output_type": "execute_result"
    }
   ],
   "source": [
    "c=np.array([10,15])\n",
    "A=np.array([[-2,-1],[-.3,-.6],[-.2,-.2]])\n",
    "b=np.array([-100,-25,-10])\n",
    "sol=opt.linprog(c,A,b)\n",
    "sol.x"
   ]
  },
  {
   "cell_type": "markdown",
   "metadata": {},
   "source": [
    "#### Gráfica:"
   ]
  },
  {
   "cell_type": "code",
   "execution_count": 12,
   "metadata": {},
   "outputs": [
    {
     "data": {
      "image/png": "[encoded data removed]",
      "text/plain": [
       "<Figure size 432x288 with 1 Axes>"
      ]
     },
     "metadata": {
      "needs_background": "light"
     },
     "output_type": "display_data"
    }
   ],
   "source": [
    "# Definir funciones de restricción y de costo\n",
    "def r1(xB):\n",
    "    return (-100+1*xB)/-2 #definimos cada función en terminos de xB\n",
    "def r2(xB):\n",
    "    return (-25+.6*xB)/-.3\n",
    "def r3(xB):\n",
    "    return (-10+0.2*xB)/-.2\n",
    "\n",
    "# Graficar\n",
    "xB=np.linspace(0,400,100)\n",
    "plt.plot(xB,r1(xB),label=\"Ag\") #se etiqueta cada restricción \n",
    "plt.plot(xB,r2(xB),label=\"$TiO_2$\")\n",
    "plt.plot(xB,r3(xB),label=\"$MgCO_3$\")\n",
    "plt.legend(loc=\"best\") #comando para mostrar el cuadro de etiquetas \n",
    "plt.xlabel(\"$x_B$\") # se etiqueta eje \"x\" como xB\n",
    "plt.ylabel(\"$x_A$\")\n",
    "plt.axis([0,100,-10,100]) #se recortan los ejes \n",
    "plt.grid()"
   ]
  },
  {
   "cell_type": "markdown",
   "metadata": {},
   "source": [
    "#### Interpretación:"
   ]
  },
  {
   "cell_type": "markdown",
   "metadata": {},
   "source": [
    "Cantidades para minimizar costos:\n",
    "\n",
    "- Cantidad de NanoNap01 es 38.88\n",
    "\n",
    "- Cantidad de NanoNao02 es 22.22\n",
    "\n",
    "Esta es una solución factible pues minimiza el costo mientras cumple los requisitos de los elementos.  Estos resultados son utilizados para la fabricación de  NanoNap para que la producción sea más económica y eficiente. "
   ]
  },
  {
   "cell_type": "markdown",
   "metadata": {},
   "source": [
    "### Conclusión"
   ]
  },
  {
   "cell_type": "markdown",
   "metadata": {},
   "source": [
    "Realizando el problema y resolviendo exitosamente pudimos mostrar que entendimos  los conocimientos adquiridos en clase; optimización de programación lineal por medio de linprog, entre otras librerías.\n",
    "\n",
    "En otras palabras,  se pudo determinar una  función mínima para los costos satisfaciendo  las unidades y costos requeridos para el problema. Ya que en la industria se busca cunplir con los requisitos a un menor costo y cumplir con las expectativas que tiene cada elaboración de materiales. "
   ]
  },
  {
   "cell_type": "markdown",
   "metadata": {},
   "source": [
    "#### Referencias:"
   ]
  },
  {
   "cell_type": "markdown",
   "metadata": {},
   "source": [
    ">C.V., N. S. (2009). Nanomateriales Xignux. Obtenido de Aplicaciones y soluciones de la más alta calidad basadas en nanomateriales: https://www.nanomateriales.com.mx/mpae100\n",
    ">Garzon, F. G. (2012). Problemas resueltos de programación lineal. Obtenido de Problemas resueltos de programación lineal: https://www.omniascience.com/books/index.php/scholar/catalog/download/18/72/94-1?inline=1\n"
   ]
  },
  {
   "cell_type": "code",
   "execution_count": null,
   "metadata": {},
   "outputs": [],
   "source": []
  }
 ],
 "metadata": {
  "kernelspec": {
   "display_name": "Python 3",
   "language": "python",
   "name": "python3"
  },
  "language_info": {
   "codemirror_mode": {
    "name": "ipython",
    "version": 3
   },
   "file_extension": ".py",
   "mimetype": "text/x-python",
   "name": "python",
   "nbconvert_exporter": "python",
   "pygments_lexer": "ipython3",
   "version": "3.7.4"
  }
 },
 "nbformat": 4,
 "nbformat_minor": 2
}
